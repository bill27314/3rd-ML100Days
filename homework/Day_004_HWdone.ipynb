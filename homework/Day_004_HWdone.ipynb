{
 "cells": [
  {
   "cell_type": "markdown",
   "metadata": {},
   "source": [
    "## 練習時間\n",
    "資料的操作有很多，接下來的馬拉松中我們會介紹常被使用到的操作，參加者不妨先自行想像一下，第一次看到資料，我們一般會想知道什麼訊息？\n",
    "\n",
    "#### Ex: 如何知道資料的 row 數以及 column 數、有什麼欄位、多少欄位、如何截取部分的資料等等\n",
    "\n",
    "有了對資料的好奇之後，我們又怎麼通過程式碼來達成我們的目的呢？\n",
    "\n",
    "#### 可參考該[基礎教材](https://bookdata.readthedocs.io/en/latest/base/01_pandas.html#DataFrame-%E5%85%A5%E9%97%A8)或自行 google"
   ]
  },
  {
   "cell_type": "markdown",
   "metadata": {},
   "source": [
    "# [作業目標]\n",
    "- 熟悉更多的 Python 資料操作"
   ]
  },
  {
   "cell_type": "markdown",
   "metadata": {},
   "source": [
    "# [作業重點]\n",
    "- 列出資料的大小 (In[4], Hint : shape)\n",
    "- 列出所有欄位 (In[5], 有多種寫法)\n",
    "- 擷取部分資料 (In[6], Hint : loc 或 iloc)"
   ]
  },
  {
   "cell_type": "code",
   "execution_count": 2,
   "metadata": {},
   "outputs": [],
   "source": [
    "import os\n",
    "import numpy as np\n",
    "import pandas as pd"
   ]
  },
  {
   "cell_type": "code",
   "execution_count": 7,
   "metadata": {},
   "outputs": [],
   "source": [
    "# 設定 data_path\n",
    "dir_data = './data/'"
   ]
  },
  {
   "cell_type": "code",
   "execution_count": 18,
   "metadata": {},
   "outputs": [
    {
     "name": "stdout",
     "output_type": "stream",
     "text": [
      "Path of read in data: application_train.csv\n"
     ]
    }
   ],
   "source": [
    "f_app = os.path.join('application_train.csv')\n",
    "print('Path of read in data: %s' % (f_app))\n",
    "app_train = pd.read_csv(f_app)"
   ]
  },
  {
   "cell_type": "markdown",
   "metadata": {},
   "source": [
    "### 如果沒有想法，可以先嘗試找出剛剛例子中提到的問題的答案\n",
    "#### 資料的 row 數以及 column 數"
   ]
  },
  {
   "cell_type": "code",
   "execution_count": 48,
   "metadata": {},
   "outputs": [
    {
     "name": "stdout",
     "output_type": "stream",
     "text": [
      "(307511, 122)\n"
     ]
    }
   ],
   "source": [
    "print(app_train.shape)"
   ]
  },
  {
   "cell_type": "markdown",
   "metadata": {},
   "source": [
    "#### 列出所有欄位"
   ]
  },
  {
   "cell_type": "code",
   "execution_count": 52,
   "metadata": {},
   "outputs": [
    {
     "name": "stdout",
     "output_type": "stream",
     "text": [
      "Index(['SK_ID_CURR', 'TARGET', 'NAME_CONTRACT_TYPE', 'CODE_GENDER',\n",
      "       'FLAG_OWN_CAR', 'FLAG_OWN_REALTY', 'CNT_CHILDREN', 'AMT_INCOME_TOTAL',\n",
      "       'AMT_CREDIT', 'AMT_ANNUITY',\n",
      "       ...\n",
      "       'FLAG_DOCUMENT_18', 'FLAG_DOCUMENT_19', 'FLAG_DOCUMENT_20',\n",
      "       'FLAG_DOCUMENT_21', 'AMT_REQ_CREDIT_BUREAU_HOUR',\n",
      "       'AMT_REQ_CREDIT_BUREAU_DAY', 'AMT_REQ_CREDIT_BUREAU_WEEK',\n",
      "       'AMT_REQ_CREDIT_BUREAU_MON', 'AMT_REQ_CREDIT_BUREAU_QRT',\n",
      "       'AMT_REQ_CREDIT_BUREAU_YEAR'],\n",
      "      dtype='object', length=122)\n"
     ]
    }
   ],
   "source": [
    "print(app_train.columns)"
   ]
  },
  {
   "cell_type": "markdown",
   "metadata": {},
   "source": [
    "#### 截取部分資料"
   ]
  },
  {
   "cell_type": "code",
   "execution_count": 58,
   "metadata": {},
   "outputs": [
    {
     "name": "stdout",
     "output_type": "stream",
     "text": [
      "       NAME_CONTRACT_TYPE CODE_GENDER\n",
      "0              Cash loans           M\n",
      "1              Cash loans           F\n",
      "2         Revolving loans           M\n",
      "3              Cash loans           F\n",
      "4              Cash loans           M\n",
      "5              Cash loans           M\n",
      "6              Cash loans           F\n",
      "7              Cash loans           M\n",
      "8              Cash loans           F\n",
      "9         Revolving loans           M\n",
      "10             Cash loans           F\n",
      "11             Cash loans           F\n",
      "12             Cash loans           F\n",
      "13             Cash loans           M\n",
      "14             Cash loans           F\n",
      "15             Cash loans           M\n",
      "16             Cash loans           M\n",
      "17        Revolving loans           F\n",
      "18        Revolving loans           F\n",
      "19             Cash loans           F\n",
      "20        Revolving loans           M\n",
      "21             Cash loans           F\n",
      "22             Cash loans           F\n",
      "23             Cash loans           F\n",
      "24             Cash loans           M\n",
      "25             Cash loans           F\n",
      "26             Cash loans           F\n",
      "27             Cash loans           M\n",
      "28             Cash loans           M\n",
      "29        Revolving loans           M\n",
      "...                   ...         ...\n",
      "307481         Cash loans           M\n",
      "307482         Cash loans           F\n",
      "307483         Cash loans           F\n",
      "307484         Cash loans           F\n",
      "307485    Revolving loans           F\n",
      "307486         Cash loans           F\n",
      "307487         Cash loans           M\n",
      "307488         Cash loans           F\n",
      "307489         Cash loans           F\n",
      "307490         Cash loans           M\n",
      "307491         Cash loans           M\n",
      "307492         Cash loans           M\n",
      "307493         Cash loans           F\n",
      "307494         Cash loans           M\n",
      "307495         Cash loans           M\n",
      "307496    Revolving loans           F\n",
      "307497         Cash loans           F\n",
      "307498         Cash loans           M\n",
      "307499         Cash loans           F\n",
      "307500         Cash loans           F\n",
      "307501         Cash loans           F\n",
      "307502         Cash loans           F\n",
      "307503         Cash loans           F\n",
      "307504         Cash loans           F\n",
      "307505         Cash loans           F\n",
      "307506         Cash loans           M\n",
      "307507         Cash loans           F\n",
      "307508         Cash loans           F\n",
      "307509         Cash loans           F\n",
      "307510         Cash loans           F\n",
      "\n",
      "[307511 rows x 2 columns]\n"
     ]
    }
   ],
   "source": [
    "print(app_train.loc[:, [ 'NAME_CONTRACT_TYPE', 'CODE_GENDER']])"
   ]
  },
  {
   "cell_type": "markdown",
   "metadata": {},
   "source": [
    "#### 還有各種數之不盡的資料操作，重點還是取決於實務中遇到的狀況和你想問的問題，在馬拉松中我們也會陸續提到更多例子"
   ]
  },
  {
   "cell_type": "code",
   "execution_count": null,
   "metadata": {
    "collapsed": true,
    "jupyter": {
     "outputs_hidden": true
    }
   },
   "outputs": [],
   "source": []
  }
 ],
 "metadata": {
  "kernelspec": {
   "display_name": "Python 3",
   "language": "python",
   "name": "python3"
  },
  "language_info": {
   "codemirror_mode": {
    "name": "ipython",
    "version": 3
   },
   "file_extension": ".py",
   "mimetype": "text/x-python",
   "name": "python",
   "nbconvert_exporter": "python",
   "pygments_lexer": "ipython3",
   "version": "3.7.3"
  }
 },
 "nbformat": 4,
 "nbformat_minor": 4
}
